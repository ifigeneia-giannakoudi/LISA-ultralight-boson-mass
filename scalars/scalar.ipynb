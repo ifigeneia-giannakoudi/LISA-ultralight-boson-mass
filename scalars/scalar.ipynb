{
 "cells": [
  {
   "cell_type": "code",
   "execution_count": 1,
   "id": "deb50914-5c25-4e70-843c-60a490167461",
   "metadata": {
    "tags": []
   },
   "outputs": [],
   "source": [
    "# cosmology related modules\n",
    "import astropy\n",
    "from astropy.cosmology import Planck18\n",
    "from astropy.constants import c\n",
    "from astropy import units as u\n",
    "# for catalogues generation\n",
    "from scipy.stats import uniform\n",
    "import random as rnd\n",
    "from scipy import stats\n",
    "#from sklearn.neighbors import KernelDensity\n",
    "\n",
    "#general tools\n",
    "import sys\n",
    "import numpy as np\n",
    "from scipy.interpolate import interp1d\n",
    "import matplotlib.pyplot as plt\n",
    "import scipy.fftpack\n",
    "from numpy.fft import *\n",
    "from scipy.integrate import quad\n",
    "import scipy.special\n",
    "#from statistics import mean\n",
    "from matplotlib import pyplot as plt \n",
    "import matplotlib.colors as colors\n",
    "import math\n",
    "\n",
    "#superrad\n",
    "import os\n",
    "from pathlib import Path\n",
    "current = os.path.dirname(os.path.realpath('__file__'))\n",
    "parent = os.path.dirname(current)\n",
    "sys.path.append(parent)\n",
    "from superrad.ultralight_boson import UltralightBoson\n",
    "from superrad.cloud_model import CloudModel\n",
    "# cosmology related modules\n",
    "import astropy\n",
    "from astropy.cosmology import Planck18\n",
    "from astropy.constants import c\n",
    "from astropy import units as u\n",
    "\n"
   ]
  },
  {
   "cell_type": "markdown",
   "id": "079ce4a5-fbce-46ad-90ec-71e05b413e14",
   "metadata": {},
   "source": [
    "## Scalars"
   ]
  },
  {
   "cell_type": "code",
   "execution_count": 2,
   "id": "8aaef168-ba97-420f-8b3c-e7f3e829adf4",
   "metadata": {
    "tags": []
   },
   "outputs": [],
   "source": [
    "# from SuppeRad\n",
    "bc = UltralightBoson(spin=0, model=\"relativistic\")"
   ]
  },
  {
   "cell_type": "code",
   "execution_count": 3,
   "id": "e71b11bf-e2bf-4e9d-a1b0-7b2594f2d244",
   "metadata": {
    "tags": []
   },
   "outputs": [],
   "source": [
    "data=np.loadtxt(\"q3nod10.dat\");"
   ]
  },
  {
   "cell_type": "code",
   "execution_count": 9,
   "id": "4e209370-4c8e-4598-a9ac-6330d2ba1a0c",
   "metadata": {
    "tags": []
   },
   "outputs": [],
   "source": [
    "# Use cosmology consistent with Planck data \n",
    "cosmo = Planck18\n",
    "cu = c.to('Mpc/yr').value # speed of light in Mpc per year\n",
    "H0 = Planck18.H0.value # km/s/Mpc\n",
    "cuk = c.to('km/s').value #km/s\n",
    "# General useful quantities:\n",
    "sec_hour = 3600.0 #sec in an hour\n",
    "sec_year = 3.154*10**7 #sec in a year\n",
    "# LISA / mission/ astro/ cosmo\n",
    "tmiss = 4*sec_year #LISA mission duration \n",
    "sec_week= 604800 # in sec"
   ]
  },
  {
   "cell_type": "code",
   "execution_count": 10,
   "id": "a430055c-66be-4f0a-8d23-68ba8fffdb8b",
   "metadata": {
    "tags": []
   },
   "outputs": [],
   "source": [
    "\n",
    "# LISA / mission/ astro/ cosmo\n",
    "tmiss = 4*sec_year #LISA mission duration \n",
    "#tint = np.linspace(0,tmiss,17) # 4 years in 16 intervals\n",
    "#dtmiss=(tint[1]-tint[0])/sec_year # in yrs\n",
    "\n",
    "\n",
    "\n",
    "# Sensitivity curve\n",
    "fstar=19.09*10**(-3) #Hz\n",
    "L=2.5*10**9 #in m\n",
    "A=9*10**(-45)\n",
    "alpha = 0.166\n",
    "beta=299\n",
    "kappa=611\n",
    "gamma=1340\n",
    "fk=0.00173\n",
    "\n",
    "\n",
    "def Poms(f):\n",
    "    return ((1.5*10**(-11))**2)*(1+((2*10**(-3))/f)**4)\n",
    "\n",
    "def Pacc(f):\n",
    "    return ((3*10**(-15))**2)*(1+((0.4*10**(-3))/f)**2)*(1+(f/(8*10**(-3)))**4)\n",
    "\n",
    "def Pn(f):\n",
    "    return (Poms(f)/(L**2))+2*(1+(np.cos(f/fstar)**2))*Pacc(f)/(((2*np.pi*f)**4)*L**2)\n",
    "\n",
    "def R(f):\n",
    "    return 0.3/(1+0.6*(f/fstar)**2)\n",
    "\n",
    "def Sc(f):\n",
    "    return A*f**(-7/3)*np.exp(f**alpha+beta*f*np.sin(kappa*f))*(1+np.tanh(gamma*(fk-f)))\n",
    "\n",
    "def S_n(f):\n",
    "    return Pn(f)/R(f) + Sc(f)\n",
    "\n",
    "# SNR calculation\n",
    "def t01(f,tg,finf,Df):\n",
    "    return tg*(Df/(f-finf)-1)\n",
    "\n",
    "def ϕ01(f,tg,finf,Df):\n",
    "    return (finf-f)*t01(f,tg,finf,Df)*sec_hour+Df*tg*sec_hour*np.log(Df/(f-finf))\n",
    "\n",
    "def ddϕ01(f,tg,finf,Df):\n",
    "    return -((f-finf)**2)/(Df*tg*sec_hour)\n",
    "\n",
    "def Hf1(f,tg,finf,Df,h):\n",
    "    return h/(Df/(f-finf))*np.exp(1j*2*np.pi*ϕ01(f,tg,finf,Df))*np.exp(1j*np.pi/4)*np.sqrt(1/(4*ddϕ01(f,tg,finf,Df)))\n",
    "# it is already devided by 2\n"
   ]
  },
  {
   "cell_type": "code",
   "execution_count": 82,
   "id": "28c40710-24c6-4c2d-8e85-9d9712745ac6",
   "metadata": {
    "tags": []
   },
   "outputs": [],
   "source": [
    "def snr(M,m,a,theta,zz,tm):\n",
    "    \n",
    "    \n",
    "    dObs =Planck18.luminosity_distance(zz).value # Mpc\n",
    "    \n",
    "    wf = bc.make_waveform(M, a, m, units=\"physical\")\n",
    "    \n",
    "    tc=wf.cloud_growth_time()/sec_hour;  # Cloud growth time in hours in src frame\n",
    "    tgw = wf.gw_time()/sec_hour*(1+zz); # timescale of GW emission in hours in det frame\n",
    "    tsrc0 = 0\n",
    "    tsrcf = tm/(1+zz) - tc*sec_hour # in source frame in seconds\n",
    "    \n",
    "    h0p,h0x,delta = wf.strain_amp(tsrc0, theta, dObs) # Strain \n",
    "    fgw0 = wf.freq_gw(tsrc0)/(1+zz) #min frequency in detector frame \n",
    "    fmin=fgw0\n",
    "    fmax=wf.freq_gw(tsrcf)/(1+zz) #max frequency in detector frame \n",
    "    #phi = wf.phase_gw(tsrc)\n",
    "    \n",
    "    \n",
    "    \n",
    "    f0 = wf.freq_gw(10**8*tgw)/(1+zz) #Hz\n",
    "    δf=fgw0-f0 #Hz\n",
    "    fex=np.linspace(fmin,fmax,10**4)\n",
    "                                 \n",
    "    int1=(np.abs(Hf1(fex,tgw,f0,δf,h0p))**2 + np.abs(Hf1(fex,tgw,f0,δf,h0x))**2)/S_n(fex)\n",
    "    integral = np.trapz(int1, fex)\n",
    "    snr = 2*np.sqrt(integral)\n",
    "    \n",
    "    return snr,tgw*sec_hour/sec_year,tc*(1+zz)*sec_hour/sec_year"
   ]
  },
  {
   "cell_type": "code",
   "execution_count": null,
   "id": "83f51f8b-5da6-47fb-8413-556bbeed3a12",
   "metadata": {},
   "outputs": [],
   "source": [
    "# Mn,an,zn,thn,tmn,moptn,wt,md,nsnrd,i"
   ]
  },
  {
   "cell_type": "code",
   "execution_count": 12,
   "id": "00b7ef07-3884-413b-b2b8-3cb47def6ce5",
   "metadata": {
    "tags": []
   },
   "outputs": [],
   "source": [
    "systs=data[:,[0,1,2,3,4,-1]]"
   ]
  },
  {
   "cell_type": "code",
   "execution_count": 14,
   "id": "aae70162-09ae-41db-a5c4-081c6f0cb495",
   "metadata": {
    "tags": []
   },
   "outputs": [
    {
     "data": {
      "text/plain": [
       "array([3.75, 3.75, 3.75, ..., 0.25, 0.25, 0.25])"
      ]
     },
     "execution_count": 14,
     "metadata": {},
     "output_type": "execute_result"
    }
   ],
   "source": [
    "def mb(alpha,M):\n",
    "    m=alpha*10**(-12)/(0.075*(M/10))\n",
    "    return m"
   ]
  },
  {
   "cell_type": "code",
   "execution_count": 16,
   "id": "12b54913-4608-4a84-8b91-186e4387177d",
   "metadata": {
    "tags": []
   },
   "outputs": [],
   "source": [
    "#pos=systs[systs[:, 4] >= 2.5*sec_year]"
   ]
  },
  {
   "cell_type": "markdown",
   "id": "338d12fd-7e72-44e2-913a-8e6b6c45f412",
   "metadata": {
    "tags": []
   },
   "source": [
    "I keep the unique systems"
   ]
  },
  {
   "cell_type": "code",
   "execution_count": 77,
   "id": "7f930722-0c9d-4c5c-ba73-cddf78fa4f73",
   "metadata": {
    "tags": []
   },
   "outputs": [],
   "source": [
    "# Find unique rows and their indices\n",
    "unique_rows, indices = np.unique(systs, axis=0, return_index=True)"
   ]
  },
  {
   "cell_type": "code",
   "execution_count": 78,
   "id": "2f8a3025-4607-4859-bb1f-9fd55796799a",
   "metadata": {
    "tags": []
   },
   "outputs": [],
   "source": [
    "# Sort the indices to match the original order\n",
    "sorted_indices = np.sort(indices)"
   ]
  },
  {
   "cell_type": "code",
   "execution_count": 79,
   "id": "bd396484-b8b1-4b49-82d3-5ee76e8a7e36",
   "metadata": {
    "tags": []
   },
   "outputs": [],
   "source": [
    "# Keep only the unique rows from the original array\n",
    "sy = systs[sorted_indices]"
   ]
  },
  {
   "cell_type": "code",
   "execution_count": null,
   "id": "d3dc5470-c11a-4bfb-ade6-4e6915ae7ccd",
   "metadata": {
    "tags": []
   },
   "outputs": [],
   "source": []
  },
  {
   "cell_type": "code",
   "execution_count": 83,
   "id": "3301203c-fda6-41d8-8248-11d757017cd6",
   "metadata": {
    "tags": []
   },
   "outputs": [
    {
     "name": "stderr",
     "output_type": "stream",
     "text": [
      "/tmp/ipykernel_139182/2634339345.py:27: RuntimeWarning: invalid value encountered in sqrt\n",
      "  snr = 2*np.sqrt(integral)\n"
     ]
    }
   ],
   "source": [
    "sc=[]\n",
    "for i in range(sy.shape[0]):\n",
    "    snn,tgw,tcs=snr(sy[i,0],mb(0.3,sy[i,0]),sy[i,1],sy[i,3],sy[i,2],sy[i,4])\n",
    "    sc.append([snn,tgw,tcs])"
   ]
  },
  {
   "cell_type": "code",
   "execution_count": 86,
   "id": "faf80ab5-6eee-4df4-a1d8-2f1a7e69d966",
   "metadata": {
    "tags": []
   },
   "outputs": [],
   "source": [
    "sc=np.array(sc)"
   ]
  },
  {
   "cell_type": "code",
   "execution_count": 87,
   "id": "53c1ce61-3682-4962-bb02-860bcbfb10e5",
   "metadata": {
    "tags": []
   },
   "outputs": [
    {
     "data": {
      "text/plain": [
       "False"
      ]
     },
     "execution_count": 87,
     "metadata": {},
     "output_type": "execute_result"
    }
   ],
   "source": [
    "np.any(~np.isnan(sc[:, 0]))"
   ]
  },
  {
   "cell_type": "markdown",
   "id": "ebc12ebb-5223-442a-8b98-3f503ccbfb09",
   "metadata": {},
   "source": [
    "for all the systems that appear in all realizations in this model, none of them can support a scalar boson mass that has tc<4 years. "
   ]
  },
  {
   "cell_type": "code",
   "execution_count": 92,
   "id": "7908aa1c-30f3-48bf-b29e-1c9c8a7b6df9",
   "metadata": {
    "tags": []
   },
   "outputs": [
    {
     "data": {
      "text/plain": [
       "38.341108042640364"
      ]
     },
     "execution_count": 92,
     "metadata": {},
     "output_type": "execute_result"
    }
   ],
   "source": [
    "min(sc[:,2]) # the minimum that appears is 38 years...the characteristics of this system are:"
   ]
  },
  {
   "cell_type": "code",
   "execution_count": 96,
   "id": "8c07ab46-8295-414c-91cd-45203ecb732f",
   "metadata": {
    "tags": []
   },
   "outputs": [
    {
     "data": {
      "text/plain": [
       "array([5.76040000e+04, 9.50000000e-01, 1.80650000e-01, 2.25886499e+00,\n",
       "       6.30800000e+07, 1.99000000e+02])"
      ]
     },
     "execution_count": 96,
     "metadata": {},
     "output_type": "execute_result"
    }
   ],
   "source": [
    "sy[np.argmin(sc[:,2]),:]"
   ]
  },
  {
   "cell_type": "code",
   "execution_count": 99,
   "id": "2516bbe0-48e1-465a-a6ce-0bbaa7ac60c6",
   "metadata": {
    "tags": []
   },
   "outputs": [
    {
     "data": {
      "text/plain": [
       "2.0"
      ]
     },
     "execution_count": 99,
     "metadata": {},
     "output_type": "execute_result"
    }
   ],
   "source": [
    "sy[np.argmin(sc[:,2]),-2]/sec_year"
   ]
  },
  {
   "cell_type": "code",
   "execution_count": null,
   "id": "5fe7a7bd-44f4-4065-a135-59535f10353d",
   "metadata": {
    "tags": []
   },
   "outputs": [],
   "source": []
  },
  {
   "cell_type": "code",
   "execution_count": null,
   "id": "4f7760ac-c7f8-4957-bc4c-d6fc26ae4783",
   "metadata": {},
   "outputs": [],
   "source": []
  },
  {
   "cell_type": "code",
   "execution_count": null,
   "id": "69074078-5d54-4816-9ee6-eaac6f0b0fde",
   "metadata": {},
   "outputs": [],
   "source": []
  },
  {
   "cell_type": "code",
   "execution_count": 91,
   "id": "acb81d48-9c05-4c48-8132-d0775c07b008",
   "metadata": {
    "tags": []
   },
   "outputs": [
    {
     "name": "stdout",
     "output_type": "stream",
     "text": [
      "scalarstimescales.dat saved\n"
     ]
    }
   ],
   "source": [
    "file_name = \"scalarstimescales.dat\"\n",
    "# Save the array to a .dat file\n",
    "np.savetxt(file_name, sc, delimiter=' ')\n",
    "print(file_name, \"saved\")\n",
    "    "
   ]
  },
  {
   "cell_type": "code",
   "execution_count": 53,
   "id": "36c0c88f-970f-4c0b-a2ea-abea753627b4",
   "metadata": {
    "tags": []
   },
   "outputs": [],
   "source": []
  },
  {
   "cell_type": "code",
   "execution_count": 71,
   "id": "d1ec1ce9-ac5a-45b5-b553-45b5c4e87268",
   "metadata": {
    "tags": []
   },
   "outputs": [
    {
     "name": "stderr",
     "output_type": "stream",
     "text": [
      "/tmp/ipykernel_139182/2634339345.py:27: RuntimeWarning: invalid value encountered in sqrt\n",
      "  snr = 2*np.sqrt(integral)\n"
     ]
    }
   ],
   "source": [
    "asnr=[]\n",
    "for i in a:\n",
    "    ss,sg,sc = snr(pos[2378793,0],mb(i,pos[2378793,0]),pos[2378793,1],pos[2378793,3],pos[2378793,2],pos[2378793,4])\n",
    "    asnr.append(sc)"
   ]
  },
  {
   "cell_type": "code",
   "execution_count": 72,
   "id": "b37722a9-cabd-4ae6-ab92-8efa6c20332d",
   "metadata": {
    "tags": []
   },
   "outputs": [
    {
     "data": {
      "image/png": "[encoded data removed]",
      "text/plain": [
       "<Figure size 400x300 with 1 Axes>"
      ]
     },
     "metadata": {},
     "output_type": "display_data"
    }
   ],
   "source": [
    "fig = plt.figure(figsize=(4, 3))\n",
    "plt.plot(a,np.array(asnr))\n",
    "plt.plot(a,4+0*a,linestyle='--')\n",
    "plt.yscale('log')\n",
    "plt.ylabel('tc [yrs]')\n",
    "plt.xlabel('α')\n",
    "plt.show()"
   ]
  },
  {
   "cell_type": "code",
   "execution_count": null,
   "id": "c8254f4e-795f-478c-a1d3-038317ca1dc2",
   "metadata": {},
   "outputs": [],
   "source": []
  },
  {
   "cell_type": "code",
   "execution_count": 73,
   "id": "9310d9d6-4166-411f-8d39-28cda159e58e",
   "metadata": {
    "tags": []
   },
   "outputs": [
    {
     "name": "stderr",
     "output_type": "stream",
     "text": [
      "/tmp/ipykernel_139182/2634339345.py:27: RuntimeWarning: invalid value encountered in sqrt\n",
      "  snr = 2*np.sqrt(integral)\n"
     ]
    }
   ],
   "source": [
    "asnr=[]\n",
    "for i in a:\n",
    "    ss,sg,sc = snr(pos[8729200,0],mb(i,pos[8729200,0]),pos[8729200,1],pos[8729200,3],pos[8729200,2],pos[8729200,4])\n",
    "    asnr.append(sc)"
   ]
  },
  {
   "cell_type": "code",
   "execution_count": 74,
   "id": "ba3dab98-fe39-471a-9d34-fe9c85eaf183",
   "metadata": {
    "tags": []
   },
   "outputs": [
    {
     "data": {
      "image/png": "[encoded data removed]",
      "text/plain": [
       "<Figure size 400x300 with 1 Axes>"
      ]
     },
     "metadata": {},
     "output_type": "display_data"
    }
   ],
   "source": [
    "fig = plt.figure(figsize=(4, 3))\n",
    "plt.plot(a,np.array(asnr))\n",
    "plt.plot(a,4+0*a,linestyle='--')\n",
    "plt.yscale('log')\n",
    "plt.ylabel('tc [yrs]')\n",
    "plt.xlabel('α')\n",
    "plt.show()"
   ]
  },
  {
   "cell_type": "code",
   "execution_count": 64,
   "id": "db2f2f2e-da98-4197-8b31-1f0e1bc024dd",
   "metadata": {
    "tags": []
   },
   "outputs": [
    {
     "name": "stderr",
     "output_type": "stream",
     "text": [
      "/tmp/ipykernel_139182/2634339345.py:27: RuntimeWarning: invalid value encountered in sqrt\n",
      "  snr = 2*np.sqrt(integral)\n"
     ]
    },
    {
     "data": {
      "text/plain": [
       "(nan, 54329475.99144776, 227080.1540620821)"
      ]
     },
     "execution_count": 64,
     "metadata": {},
     "output_type": "execute_result"
    }
   ],
   "source": [
    "snr(pos[0,0],mb(0.535,pos[0,0]),pos[0,1],pos[0,3],pos[0,2],pos[0,4])"
   ]
  },
  {
   "cell_type": "code",
   "execution_count": 59,
   "id": "d1f61a75-075f-4936-b7f9-01f8ab31e61e",
   "metadata": {
    "tags": []
   },
   "outputs": [
    {
     "data": {
      "text/plain": [
       "84090.0"
      ]
     },
     "execution_count": 59,
     "metadata": {},
     "output_type": "execute_result"
    }
   ],
   "source": [
    "pos[1000,0]"
   ]
  },
  {
   "cell_type": "code",
   "execution_count": 67,
   "id": "a409043b-819e-428e-877b-80afec746922",
   "metadata": {
    "tags": []
   },
   "outputs": [
    {
     "data": {
      "text/plain": [
       "8729200.0"
      ]
     },
     "execution_count": 67,
     "metadata": {},
     "output_type": "execute_result"
    }
   ],
   "source": [
    "max(pos[:,0])"
   ]
  },
  {
   "cell_type": "code",
   "execution_count": 68,
   "id": "0e746319-c28b-4e26-bfe9-174deaec247d",
   "metadata": {
    "tags": []
   },
   "outputs": [],
   "source": [
    "min_pos = np.argmin(pos[:, 0])\n",
    "max_pos = np.argmax(pos[:, 0])"
   ]
  },
  {
   "cell_type": "code",
   "execution_count": 69,
   "id": "b73391ef-10fe-4648-a299-7026c5ed6ef4",
   "metadata": {
    "tags": []
   },
   "outputs": [
    {
     "data": {
      "text/plain": [
       "2378793"
      ]
     },
     "execution_count": 69,
     "metadata": {},
     "output_type": "execute_result"
    }
   ],
   "source": [
    "min_pos"
   ]
  },
  {
   "cell_type": "code",
   "execution_count": 70,
   "id": "dfae60a2-434f-4a28-b042-aaf1d732aed8",
   "metadata": {
    "tags": []
   },
   "outputs": [
    {
     "data": {
      "text/plain": [
       "6892958"
      ]
     },
     "execution_count": 70,
     "metadata": {},
     "output_type": "execute_result"
    }
   ],
   "source": [
    "max_pos"
   ]
  },
  {
   "cell_type": "code",
   "execution_count": null,
   "id": "7adb4f0d-0b72-4d70-bc17-f00d0d93c0d5",
   "metadata": {},
   "outputs": [],
   "source": []
  },
  {
   "cell_type": "code",
   "execution_count": null,
   "id": "a661b1cc-d2fb-436e-836b-29db33cb2c40",
   "metadata": {},
   "outputs": [],
   "source": []
  },
  {
   "cell_type": "code",
   "execution_count": null,
   "id": "a001baf9-e9cc-426a-9113-6e5da03871b7",
   "metadata": {},
   "outputs": [],
   "source": []
  },
  {
   "cell_type": "code",
   "execution_count": null,
   "id": "d169f082-4cfe-4ccc-a657-6943e8b52fbd",
   "metadata": {},
   "outputs": [],
   "source": []
  }
 ],
 "metadata": {
  "kernelspec": {
   "display_name": "superradproject",
   "language": "python",
   "name": "superradproject"
  },
  "language_info": {
   "codemirror_mode": {
    "name": "ipython",
    "version": 3
   },
   "file_extension": ".py",
   "mimetype": "text/x-python",
   "name": "python",
   "nbconvert_exporter": "python",
   "pygments_lexer": "ipython3",
   "version": "3.9.18"
  }
 },
 "nbformat": 4,
 "nbformat_minor": 5
}
