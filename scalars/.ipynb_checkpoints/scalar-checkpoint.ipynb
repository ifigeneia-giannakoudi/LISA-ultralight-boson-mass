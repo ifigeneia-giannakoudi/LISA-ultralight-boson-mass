{
 "cells": [
  {
   "cell_type": "code",
   "execution_count": 1,
   "id": "deb50914-5c25-4e70-843c-60a490167461",
   "metadata": {
    "tags": []
   },
   "outputs": [],
   "source": [
    "# cosmology related modules\n",
    "import astropy\n",
    "from astropy.cosmology import Planck18\n",
    "from astropy.constants import c\n",
    "from astropy import units as u\n",
    "# for catalogues generation\n",
    "from scipy.stats import uniform\n",
    "import random as rnd\n",
    "from scipy import stats\n",
    "#from sklearn.neighbors import KernelDensity\n",
    "\n",
    "#general tools\n",
    "import sys\n",
    "import numpy as np\n",
    "from scipy.interpolate import interp1d\n",
    "import matplotlib.pyplot as plt\n",
    "import scipy.fftpack\n",
    "from numpy.fft import *\n",
    "from scipy.integrate import quad\n",
    "import scipy.special\n",
    "#from statistics import mean\n",
    "from matplotlib import pyplot as plt \n",
    "import matplotlib.colors as colors\n",
    "import math\n",
    "\n",
    "#superrad\n",
    "import os\n",
    "from pathlib import Path\n",
    "current = os.path.dirname(os.path.realpath('__file__'))\n",
    "parent = os.path.dirname(current)\n",
    "sys.path.append(parent)\n",
    "from superrad.ultralight_boson import UltralightBoson\n",
    "from superrad.cloud_model import CloudModel\n",
    "# cosmology related modules\n",
    "import astropy\n",
    "from astropy.cosmology import Planck18\n",
    "from astropy.constants import c\n",
    "from astropy import units as u\n",
    "\n"
   ]
  },
  {
   "cell_type": "code",
   "execution_count": 2,
   "id": "dbefacb7-b82c-49e6-b43a-6e0a64a1eb05",
   "metadata": {
    "tags": []
   },
   "outputs": [],
   "source": [
    "# from SuppeRad\n",
    "bc = UltralightBoson(spin=1, model=\"relativistic\")"
   ]
  },
  {
   "cell_type": "code",
   "execution_count": 3,
   "id": "a67dd64d-fca9-45d0-a56d-8e224a61a989",
   "metadata": {
    "tags": []
   },
   "outputs": [],
   "source": [
    "# Use cosmology consistent with Planck data \n",
    "cosmo = Planck18\n",
    "cu = c.to('Mpc/yr').value # speed of light in Mpc per year\n",
    "H0 = Planck18.H0.value # km/s/Mpc\n",
    "cuk = c.to('km/s').value #km/s\n",
    "# General useful quantities:\n",
    "sec_hour = 3600.0 #sec in an hour\n",
    "sec_year = 3.154*10**7 #sec in a year\n",
    "# LISA / mission/ astro/ cosmo\n",
    "tmiss = 4*sec_year #LISA mission duration "
   ]
  },
  {
   "cell_type": "code",
   "execution_count": 4,
   "id": "82fe0913-74b4-4e0f-8590-b0bdf92c1c9c",
   "metadata": {
    "tags": []
   },
   "outputs": [],
   "source": [
    "data = np.loadtxt(\"q3nod10times.dat\", usecols=(0, 1, 2, 7), max_rows=10)"
   ]
  },
  {
   "cell_type": "code",
   "execution_count": null,
   "id": "6e762ca8-c660-4744-8c41-cf6c3bf684bf",
   "metadata": {},
   "outputs": [],
   "source": []
  },
  {
   "cell_type": "code",
   "execution_count": null,
   "id": "f2fbaec3-19d7-4edd-b1a5-9af691d118fe",
   "metadata": {},
   "outputs": [],
   "source": []
  },
  {
   "cell_type": "code",
   "execution_count": null,
   "id": "2113652a-c275-4e06-8d3e-63ed7d7bf8ab",
   "metadata": {},
   "outputs": [],
   "source": []
  },
  {
   "cell_type": "code",
   "execution_count": null,
   "id": "20870425-1203-4149-82c4-4efeffb65e34",
   "metadata": {},
   "outputs": [],
   "source": []
  }
 ],
 "metadata": {
  "kernelspec": {
   "display_name": "superradproject",
   "language": "python",
   "name": "superradproject"
  },
  "language_info": {
   "codemirror_mode": {
    "name": "ipython",
    "version": 3
   },
   "file_extension": ".py",
   "mimetype": "text/x-python",
   "name": "python",
   "nbconvert_exporter": "python",
   "pygments_lexer": "ipython3",
   "version": "3.9.18"
  }
 },
 "nbformat": 4,
 "nbformat_minor": 5
}
